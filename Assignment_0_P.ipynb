{
  "nbformat": 4,
  "nbformat_minor": 0,
  "metadata": {
    "colab": {
      "provenance": [],
      "toc_visible": true
    },
    "kernelspec": {
      "name": "python3",
      "display_name": "Python 3"
    },
    "language_info": {
      "name": "python"
    }
  },
  "cells": [
    {
      "cell_type": "markdown",
      "source": [
        "# Assignment 0\n",
        "**Instrunctions for the assignment** \\\\\n",
        "\n",
        "*   Open Google Colab: Begin by launching Google Colab and creating a new Python notebook.\n",
        "*   Read Comments Carefully: Pay close attention to the comments provided within the codeblocks.\n",
        "\n",
        "\n",
        "*   Code Block Completion: Fill in the codeblocks as per the instructions given in the comments.\n",
        "*   Avoid Copying: Ensure that you understand the concepts and refrain from directly copying code from external sources.\n",
        "\n",
        "\n",
        "*   Execute Codeblocks: Verify that each codeblock runs without errors by executing them.\n",
        "*   Save and Submit: Once you've completed the assignment, save your notebook and follow the submission guidelines provided by your instructor.\n",
        "\n",
        "\n",
        "\n",
        "\n",
        "\n",
        "\n",
        "\n",
        "\n",
        "\n",
        "\n",
        "**Notes:**\n",
        "\n",
        "Encouragement: Take your time to understand the concepts behind each codeblock. This assignment aims to strengthen your Python programming skills. \\\\\n",
        "Good Luck! : If you have any questions or require clarification on any aspect of the instructions, feel free to ask. \\\\\n",
        " \\\\\n",
        "\n",
        "Best wishes for your assignment! These instructions are crafted to provide clarity and guidance as you work through the tasks in Google Colab.\n",
        "\n",
        "\n",
        "\n",
        "\n",
        "\n",
        "\n",
        "\n"
      ],
      "metadata": {
        "id": "U2p472EZsFQh"
      }
    },
    {
      "cell_type": "markdown",
      "source": [
        "## Getting Started\n",
        "Solving these exercises will help make you a better programmer. Solve them in order, because each solution builds scaffolding, working code, and knowledge you can use on future problems. Read the directions carefully, and have fun!\n",
        "\n",
        "\n",
        "\n",
        "*   To save your work to your Google Drive, go to File then \"Save Copy in Drive\".\n",
        "*   Your own work will now appear in your Google Drive account!\n",
        "*   Work on this copy as directed"
      ],
      "metadata": {
        "id": "jGDFomGq3i87"
      }
    },
    {
      "cell_type": "markdown",
      "source": [
        "## What to do when you don't know what to do next\n",
        "- When the exercise asks you to reverse an list, the way forward is to search for \"How to reverse a list in Python\" in your favorite search engine.\n",
        "- When the exercise asks you to check if a number is even, the way forward is to search for \"how to check if a number is even in Python\".\n",
        "- When the exercise has you calculate the area of a circle, the way forward is to search for \"how to calculate the area of a circle in Python\" or \"How to get pi in Python\".\n",
        "\n",
        "😀😀"
      ],
      "metadata": {
        "id": "jZ1hWiMO4TTN"
      }
    },
    {
      "cell_type": "markdown",
      "source": [
        "## Basic Python Exercises"
      ],
      "metadata": {
        "id": "LKjbv4-Mmp3_"
      }
    },
    {
      "cell_type": "markdown",
      "source": [
        "1. Create a new list from two list \\\\\n",
        "list1 = [10, 20, 25, 30, 35] \\\\\n",
        "list2 = [40, 45, 60, 75, 90]"
      ],
      "metadata": {
        "id": "POUIXeAkoAJy"
      }
    },
    {
      "cell_type": "code",
      "source": [
        "list1 = [10, 20, 25, 30, 35]\n",
        "list2 = [40, 45, 60, 75, 90]\n",
        "list3=list1+list2\n",
        "print(list3)"
      ],
      "metadata": {
        "id": "083WsOfvmz3k",
        "colab": {
          "base_uri": "https://localhost:8080/"
        },
        "outputId": "beb2185b-c7b6-4896-e645-146095fc5b3f"
      },
      "execution_count": 11,
      "outputs": [
        {
          "output_type": "stream",
          "name": "stdout",
          "text": [
            "[10, 20, 25, 30, 35, 40, 45, 60, 75, 90]\n"
          ]
        }
      ]
    },
    {
      "cell_type": "markdown",
      "source": [
        "2. Print multiplication table from 1 to 10"
      ],
      "metadata": {
        "id": "mBuOTb3vo7SY"
      }
    },
    {
      "cell_type": "code",
      "source": [
        "for i in range(1, 11):\n",
        "    for j in range(1, 11):\n",
        "        print(i * j, end=' ')\n",
        "    print(\"\\n\")\n"
      ],
      "metadata": {
        "id": "ALdwhW6uqRTB",
        "colab": {
          "base_uri": "https://localhost:8080/"
        },
        "outputId": "022dcc1a-814d-4ef5-cd66-daa743e8bcb9"
      },
      "execution_count": 12,
      "outputs": [
        {
          "output_type": "stream",
          "name": "stdout",
          "text": [
            "1 2 3 4 5 6 7 8 9 10 \n",
            "\n",
            "2 4 6 8 10 12 14 16 18 20 \n",
            "\n",
            "3 6 9 12 15 18 21 24 27 30 \n",
            "\n",
            "4 8 12 16 20 24 28 32 36 40 \n",
            "\n",
            "5 10 15 20 25 30 35 40 45 50 \n",
            "\n",
            "6 12 18 24 30 36 42 48 54 60 \n",
            "\n",
            "7 14 21 28 35 42 49 56 63 70 \n",
            "\n",
            "8 16 24 32 40 48 56 64 72 80 \n",
            "\n",
            "9 18 27 36 45 54 63 72 81 90 \n",
            "\n",
            "10 20 30 40 50 60 70 80 90 100 \n",
            "\n"
          ]
        }
      ]
    },
    {
      "cell_type": "markdown",
      "source": [
        "3. Print a downward Half-Pyramid Pattern\n",
        "\n",
        "0 0 0 0 0   \n",
        "0 0 0 0 <br>\n",
        "0 0 0 <br>\n",
        "0 0 <br>\n",
        "0"
      ],
      "metadata": {
        "id": "rXhutUXXqR5x"
      }
    },
    {
      "cell_type": "code",
      "source": [
        "n=5\n",
        "while(n>0):\n",
        "  for i in range(1,n+1):\n",
        "    print(\"0\",end=\" \")\n",
        "  print()\n",
        "  n=n-1"
      ],
      "metadata": {
        "id": "U9j7N1nrtw--",
        "colab": {
          "base_uri": "https://localhost:8080/"
        },
        "outputId": "b52c95bc-8eee-4934-e983-13bbbcb46189"
      },
      "execution_count": 13,
      "outputs": [
        {
          "output_type": "stream",
          "name": "stdout",
          "text": [
            "0 0 0 0 0 \n",
            "0 0 0 0 \n",
            "0 0 0 \n",
            "0 0 \n",
            "0 \n"
          ]
        }
      ]
    },
    {
      "cell_type": "markdown",
      "source": [
        " 4. Given the following assignment of the vegetables list, add \"tomato\" to the end of the list and sort them in alphabetical order.\\\n",
        "vegetables = [\"eggplant\", \"broccoli\", \"carrot\",\"cauliflower\", \"zucchini\"]"
      ],
      "metadata": {
        "id": "Re-QzSX4ugH-"
      }
    },
    {
      "cell_type": "code",
      "source": [
        "vegetables = [\"eggplant\", \"broccoli\", \"carrot\",\"cauliflower\", \"zucchini\"]\n",
        "vegetables.append(\"tomato\")\n",
        "vegetables.sort()\n",
        "print(vegetables)"
      ],
      "metadata": {
        "id": "hnA-2EIDuxEH",
        "colab": {
          "base_uri": "https://localhost:8080/"
        },
        "outputId": "d7bf3ad3-cc1d-480b-910b-bdd457ca6d57"
      },
      "execution_count": 14,
      "outputs": [
        {
          "output_type": "stream",
          "name": "stdout",
          "text": [
            "['broccoli', 'carrot', 'cauliflower', 'eggplant', 'tomato', 'zucchini']\n"
          ]
        }
      ]
    },
    {
      "cell_type": "markdown",
      "source": [
        "5. Write a function definition named is_odd that takes in a number and returns True or False if that number is odd."
      ],
      "metadata": {
        "id": "ARyaOlp8uxix"
      }
    },
    {
      "cell_type": "code",
      "source": [
        "def is_odd(num):\n",
        "  if num%2!=0:\n",
        "    return True\n",
        "  else:\n",
        "    return False\n",
        "is_odd(4)"
      ],
      "metadata": {
        "id": "OztCSuVjvACz",
        "colab": {
          "base_uri": "https://localhost:8080/"
        },
        "outputId": "3d783108-3e87-4a47-c433-c33aefc77d60"
      },
      "execution_count": 15,
      "outputs": [
        {
          "output_type": "execute_result",
          "data": {
            "text/plain": [
              "False"
            ]
          },
          "metadata": {},
          "execution_count": 15
        }
      ]
    },
    {
      "cell_type": "markdown",
      "source": [
        "6. Write a function definition named mode that takes in sequence of numbers and returns the most commonly occuring value"
      ],
      "metadata": {
        "id": "GIAo6YfLu_AJ"
      }
    },
    {
      "cell_type": "code",
      "source": [
        "def mode(seq):\n",
        "  freq={}\n",
        "  for i in seq:\n",
        "    if i in freq:\n",
        "      freq[i]+=1\n",
        "    else:\n",
        "      freq[i]=1\n",
        "  max_freq=0\n",
        "  max_value=None\n",
        "  for key,value in freq.items():\n",
        "    if value>max_freq:\n",
        "      max_freq=value\n",
        "      max_value=key\n",
        "  return max_value\n",
        "\n",
        "print(mode([1,1,2,1,3,4,2,2,2]))\n",
        ""
      ],
      "metadata": {
        "id": "WEikC1aTvXoS",
        "colab": {
          "base_uri": "https://localhost:8080/"
        },
        "outputId": "f9163ec6-5664-4c6c-885a-d4964cd6521d"
      },
      "execution_count": 16,
      "outputs": [
        {
          "output_type": "stream",
          "name": "stdout",
          "text": [
            "2\n"
          ]
        }
      ]
    },
    {
      "cell_type": "markdown",
      "source": [
        "## Numpy Exercises"
      ],
      "metadata": {
        "id": "AKuHwB0lvZn-"
      }
    },
    {
      "cell_type": "markdown",
      "source": [
        "Exercise 1: Create a 4X2 integer array and Prints its attributes \\\\\n",
        "**Note:** The element must be a type of unsigned int16. \\\\\n",
        "And print the following Attributes: –\n",
        "\n",
        "\n",
        "\n",
        "1.   The shape of an array.\n",
        "2.   Array dimensions.\n",
        "3.   The Length of each element of the array in bytes.\n",
        "\n",
        "\n",
        "\n",
        "\n",
        "\n"
      ],
      "metadata": {
        "id": "8f2ww678vf5S"
      }
    },
    {
      "cell_type": "code",
      "source": [
        "import numpy as np\n",
        "arr=np.array([[1,2],[3,4],[5,6],[7,8]],dtype=np.uint16)\n",
        "print(arr)\n",
        "print()\n",
        "print(\"the shape : \",arr.shape)\n",
        "print(\"the dimensions : \", arr.ndim)\n",
        "print(\"the length of each element : \",arr.itemsize)"
      ],
      "metadata": {
        "id": "2YMq_rbcwTeb",
        "colab": {
          "base_uri": "https://localhost:8080/"
        },
        "outputId": "c9f5ae83-4c31-4de3-956c-4a5017309a92"
      },
      "execution_count": 17,
      "outputs": [
        {
          "output_type": "stream",
          "name": "stdout",
          "text": [
            "[[1 2]\n",
            " [3 4]\n",
            " [5 6]\n",
            " [7 8]]\n",
            "\n",
            "the shape :  (4, 2)\n",
            "the dimensions :  2\n",
            "the length of each element :  2\n"
          ]
        }
      ]
    },
    {
      "cell_type": "markdown",
      "source": [
        "Exercise 2: Following is the provided numPy array. Return array of items by taking the third column from all rows \\\\\n",
        "sampleArray = numpy.array ( [ [ 11 ,22, 33 ], [ 44, 55, 66 ], [ 77, 88, 99 ] ] )"
      ],
      "metadata": {
        "id": "jLVSC8epw0Wz"
      }
    },
    {
      "cell_type": "code",
      "source": [
        "import numpy as np\n",
        "sampleArray = np.array ( [ [ 11 ,22, 33 ], [ 44, 55, 66 ], [ 77, 88, 99 ] ] )\n",
        "print(sampleArray[:,2])"
      ],
      "metadata": {
        "id": "UVRODBc1wyjl",
        "colab": {
          "base_uri": "https://localhost:8080/"
        },
        "outputId": "df2f1992-8d0e-4e57-e2ad-96b384e001c4"
      },
      "execution_count": 18,
      "outputs": [
        {
          "output_type": "stream",
          "name": "stdout",
          "text": [
            "[33 66 99]\n"
          ]
        }
      ]
    },
    {
      "cell_type": "markdown",
      "source": [
        "Exercise 3: Sort following NumPy array \\\\\n",
        "Case 1: Sort array by the second row \\\\\n",
        "Case 2: Sort the array by the second column"
      ],
      "metadata": {
        "id": "T72G3kpRxESl"
      }
    },
    {
      "cell_type": "code",
      "source": [
        "import numpy as np\n",
        "sampleArray = np.array ( [ [ 11 ,22, 33 ], [ 44, 55, 66 ], [ 77, 88, 99 ] ] )\n",
        "print(\"Case 1:\")\n",
        "print(sampleArray[sampleArray[1,:].argsort()])\n",
        "print()\n",
        "print(\"Case 2:\")\n",
        "print(sampleArray[sampleArray[:,1].argsort()])"
      ],
      "metadata": {
        "id": "kdPN_yoaxULi",
        "colab": {
          "base_uri": "https://localhost:8080/"
        },
        "outputId": "449599bf-b32a-45e8-fb48-7191e1584c2f"
      },
      "execution_count": 19,
      "outputs": [
        {
          "output_type": "stream",
          "name": "stdout",
          "text": [
            "Case 1:\n",
            "[[11 22 33]\n",
            " [44 55 66]\n",
            " [77 88 99]]\n",
            "\n",
            "Case 2:\n",
            "[[11 22 33]\n",
            " [44 55 66]\n",
            " [77 88 99]]\n"
          ]
        }
      ]
    },
    {
      "cell_type": "markdown",
      "source": [
        "## Pandas Exercises\n",
        "In this exercise, we are using Automobile Dataset for data analysis. This Dataset has different characteristics of an auto such as body-style, wheel-base, engine-type, price, mileage, horsepower, etc. \\\\\n",
        "https://pynative.com/wp-content/uploads/2019/01/Automobile_data.csv"
      ],
      "metadata": {
        "id": "RUiLxEnkxXKF"
      }
    },
    {
      "cell_type": "markdown",
      "source": [
        "Exercise 1: From the given dataset print the first and last five rows."
      ],
      "metadata": {
        "id": "Bgvaffg70VqZ"
      }
    },
    {
      "cell_type": "code",
      "source": [
        "import pandas as pd\n",
        "df=pd.read_csv(\"Automobile_data.csv\")\n",
        "print(\"First five rows:\")\n",
        "print(df.head(5))\n",
        "print()\n",
        "print(\"Last five rows:\")\n",
        "print(df.tail(5))"
      ],
      "metadata": {
        "id": "RT2zrs5y2ZUB",
        "colab": {
          "base_uri": "https://localhost:8080/"
        },
        "outputId": "6ad06260-a616-4798-e17e-7d1e0e8f3c98"
      },
      "execution_count": 20,
      "outputs": [
        {
          "output_type": "stream",
          "name": "stdout",
          "text": [
            "First five rows:\n",
            "   index      company   body-style  wheel-base  length engine-type  \\\n",
            "0      0  alfa-romero  convertible        88.6   168.8        dohc   \n",
            "1      1  alfa-romero  convertible        88.6   168.8        dohc   \n",
            "2      2  alfa-romero    hatchback        94.5   171.2        ohcv   \n",
            "3      3         audi        sedan        99.8   176.6         ohc   \n",
            "4      4         audi        sedan        99.4   176.6         ohc   \n",
            "\n",
            "  num-of-cylinders  horsepower  average-mileage    price  \n",
            "0             four         111               21  13495.0  \n",
            "1             four         111               21  16500.0  \n",
            "2              six         154               19  16500.0  \n",
            "3             four         102               24  13950.0  \n",
            "4             five         115               18  17450.0  \n",
            "\n",
            "Last five rows:\n",
            "    index     company body-style  wheel-base  length engine-type  \\\n",
            "56     81  volkswagen      sedan        97.3   171.7         ohc   \n",
            "57     82  volkswagen      sedan        97.3   171.7         ohc   \n",
            "58     86  volkswagen      sedan        97.3   171.7         ohc   \n",
            "59     87       volvo      sedan       104.3   188.8         ohc   \n",
            "60     88       volvo      wagon       104.3   188.8         ohc   \n",
            "\n",
            "   num-of-cylinders  horsepower  average-mileage    price  \n",
            "56             four          85               27   7975.0  \n",
            "57             four          52               37   7995.0  \n",
            "58             four         100               26   9995.0  \n",
            "59             four         114               23  12940.0  \n",
            "60             four         114               23  13415.0  \n"
          ]
        }
      ]
    },
    {
      "cell_type": "markdown",
      "source": [
        "Exercise 2: Replace all column values which contain ?, n.a, or NaN with suitable values and print the updated dataset.:"
      ],
      "metadata": {
        "id": "FB-hfiNh2Z42"
      }
    },
    {
      "cell_type": "code",
      "source": [
        "for col in df.columns:\n",
        "    if df[col].dtype in ['float64', 'int64']:\n",
        "        df[col] = df[col].fillna(df[col].mean())\n",
        "    else:\n",
        "        df[col] = df[col].fillna(df[col].mode()[0])\n",
        "df.to_csv(\"cleaned_data.csv\", index=False)\n",
        "\n",
        "print(\"Cleaned dataset saved as 'cleaned_data.csv'\")\n",
        "\n",
        "print(df)"
      ],
      "metadata": {
        "id": "n8u7K1cU2x4l",
        "colab": {
          "base_uri": "https://localhost:8080/"
        },
        "outputId": "3ea10163-7ec0-4daf-f55c-cf09ef0611b0"
      },
      "execution_count": 21,
      "outputs": [
        {
          "output_type": "stream",
          "name": "stdout",
          "text": [
            "Cleaned dataset saved as 'cleaned_data.csv'\n",
            "    index      company   body-style  wheel-base  length engine-type  \\\n",
            "0       0  alfa-romero  convertible        88.6   168.8        dohc   \n",
            "1       1  alfa-romero  convertible        88.6   168.8        dohc   \n",
            "2       2  alfa-romero    hatchback        94.5   171.2        ohcv   \n",
            "3       3         audi        sedan        99.8   176.6         ohc   \n",
            "4       4         audi        sedan        99.4   176.6         ohc   \n",
            "..    ...          ...          ...         ...     ...         ...   \n",
            "56     81   volkswagen        sedan        97.3   171.7         ohc   \n",
            "57     82   volkswagen        sedan        97.3   171.7         ohc   \n",
            "58     86   volkswagen        sedan        97.3   171.7         ohc   \n",
            "59     87        volvo        sedan       104.3   188.8         ohc   \n",
            "60     88        volvo        wagon       104.3   188.8         ohc   \n",
            "\n",
            "   num-of-cylinders  horsepower  average-mileage    price  \n",
            "0              four         111               21  13495.0  \n",
            "1              four         111               21  16500.0  \n",
            "2               six         154               19  16500.0  \n",
            "3              four         102               24  13950.0  \n",
            "4              five         115               18  17450.0  \n",
            "..              ...         ...              ...      ...  \n",
            "56             four          85               27   7975.0  \n",
            "57             four          52               37   7995.0  \n",
            "58             four         100               26   9995.0  \n",
            "59             four         114               23  12940.0  \n",
            "60             four         114               23  13415.0  \n",
            "\n",
            "[61 rows x 10 columns]\n"
          ]
        }
      ]
    },
    {
      "cell_type": "markdown",
      "source": [
        "Exercise 5: Count total cars per company and print them\n",
        "\n",
        "\n"
      ],
      "metadata": {
        "id": "67ErI6He2wz6"
      }
    },
    {
      "cell_type": "code",
      "source": [
        "# Count total cars per company\n",
        "car_counts = df['company'].value_counts()\n",
        "\n",
        "# Print the result\n",
        "print(car_counts)"
      ],
      "metadata": {
        "id": "8H6ytVXD26Ae",
        "colab": {
          "base_uri": "https://localhost:8080/"
        },
        "outputId": "c988455b-531b-4152-bf79-e1ab61f80156"
      },
      "execution_count": 22,
      "outputs": [
        {
          "output_type": "stream",
          "name": "stdout",
          "text": [
            "company\n",
            "toyota           7\n",
            "bmw              6\n",
            "mazda            5\n",
            "nissan           5\n",
            "mercedes-benz    4\n",
            "audi             4\n",
            "volkswagen       4\n",
            "mitsubishi       4\n",
            "chevrolet        3\n",
            "jaguar           3\n",
            "isuzu            3\n",
            "honda            3\n",
            "porsche          3\n",
            "alfa-romero      3\n",
            "dodge            2\n",
            "volvo            2\n",
            "Name: count, dtype: int64\n"
          ]
        }
      ]
    },
    {
      "cell_type": "markdown",
      "source": [
        "## Matplotlib Exercises"
      ],
      "metadata": {
        "id": "OcyPTwrWxdXt"
      }
    },
    {
      "cell_type": "markdown",
      "source": [
        "Use the following CSV file for this exercise. Read this file using Pandas or NumPy or using in-built matplotlib function. \\\\\n",
        "https://pynative.com/wp-content/uploads/2019/01/company_sales_data.csv"
      ],
      "metadata": {
        "id": "f0JDeA8Lxu-8"
      }
    },
    {
      "cell_type": "markdown",
      "source": [
        "Exercise 1: Read Total profit of all months and show it using a line plot \\\\\n",
        "Total profit data provided for each month. Generated line plot must include the following properties: –\n",
        "\n",
        "X label name = Month Number \\\\\n",
        "Y label name = Total profit \\\\\n",
        "\n",
        "\n"
      ],
      "metadata": {
        "id": "zYDZqjEzyoFN"
      }
    },
    {
      "cell_type": "code",
      "source": [
        "import matplotlib.pyplot as plt\n",
        "import pandas as pd\n",
        "df=pd.read_csv(\"company_sales_data.csv\")\n",
        "plt.plot(df[\"month_number\"],df[\"total_profit\"])\n",
        "plt.xlabel(\"Month Number\")\n",
        "plt.ylabel(\"Total profit\")"
      ],
      "metadata": {
        "id": "wp_s9Dh50MQX",
        "colab": {
          "base_uri": "https://localhost:8080/",
          "height": 466
        },
        "outputId": "9be24158-45c5-4eff-ae5f-96c4c295e264"
      },
      "execution_count": 23,
      "outputs": [
        {
          "output_type": "execute_result",
          "data": {
            "text/plain": [
              "Text(0, 0.5, 'Total profit')"
            ]
          },
          "metadata": {},
          "execution_count": 23
        },
        {
          "output_type": "display_data",
          "data": {
            "text/plain": [
              "<Figure size 640x480 with 1 Axes>"
            ],
            "image/png": "[encoded data removed]"
          },
          "metadata": {}
        }
      ]
    },
    {
      "cell_type": "markdown",
      "source": [
        "Exercise : Read face cream and facewash product sales data and show it using the bar chart \\\\\n",
        "The bar chart should display the number of units sold per month for each product. \\\\\n",
        "Add a separate bar for each product in the same chart."
      ],
      "metadata": {
        "id": "muEpI78E0LjF"
      }
    },
    {
      "cell_type": "code",
      "source": [
        "\n",
        "df.plot(kind=\"bar\",x=\"month_number\",y=[\"facecream\",\"facewash\"])\n",
        "plt.ylabel(\"number of units solved\")"
      ],
      "metadata": {
        "id": "JmR3PAE71gIi",
        "colab": {
          "base_uri": "https://localhost:8080/",
          "height": 470
        },
        "outputId": "f62e584b-b52a-47f3-ea09-bc9f20d0c39d"
      },
      "execution_count": 24,
      "outputs": [
        {
          "output_type": "execute_result",
          "data": {
            "text/plain": [
              "Text(0, 0.5, 'number of units solved')"
            ]
          },
          "metadata": {},
          "execution_count": 24
        },
        {
          "output_type": "display_data",
          "data": {
            "text/plain": [
              "<Figure size 640x480 with 1 Axes>"
            ],
            "image/png": "[encoded data removed]"
          },
          "metadata": {}
        }
      ]
    },
    {
      "cell_type": "code",
      "source": [],
      "metadata": {
        "id": "PbtY-23fX3Xg"
      },
      "execution_count": null,
      "outputs": []
    }
  ]
}